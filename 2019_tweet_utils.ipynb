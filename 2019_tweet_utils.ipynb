{
 "cells": [
  {
   "cell_type": "code",
   "execution_count": 11,
   "metadata": {},
   "outputs": [],
   "source": [
    "import twitter\n",
    "import tweepy\n",
    "import csv\n",
    "import json"
   ]
  },
  {
   "cell_type": "code",
   "execution_count": 2,
   "metadata": {},
   "outputs": [],
   "source": [
    "\n",
    "\n",
    "\n",
    "api = tweepy.API(auth)"
   ]
  },
  {
   "cell_type": "code",
   "execution_count": 3,
   "metadata": {},
   "outputs": [
    {
     "name": "stdout",
     "output_type": "stream",
     "text": [
      "...400 tweets have been downloaded so far\n",
      "...599 tweets have been downloaded so far\n",
      "...797 tweets have been downloaded so far\n",
      "...996 tweets have been downloaded so far\n",
      "...1196 tweets have been downloaded so far\n",
      "...1396 tweets have been downloaded so far\n",
      "...1596 tweets have been downloaded so far\n",
      "...1795 tweets have been downloaded so far\n",
      "...1995 tweets have been downloaded so far\n",
      "...2195 tweets have been downloaded so far\n",
      "...2395 tweets have been downloaded so far\n",
      "...2594 tweets have been downloaded so far\n",
      "...2794 tweets have been downloaded so far\n",
      "...2994 tweets have been downloaded so far\n",
      "...3193 tweets have been downloaded so far\n",
      "...3229 tweets have been downloaded so far\n",
      "...3229 tweets have been downloaded so far\n"
     ]
    }
   ],
   "source": [
    "all_the_tweets = []\n",
    "\n",
    "# We will get the tweets with multiple requests of 200 tweets each\n",
    "\n",
    "new_tweets = api.user_timeline(screen_name='@realDonaldTrump', count=200)\n",
    "\n",
    "# saving the most recent tweets\n",
    "\n",
    "all_the_tweets.extend(new_tweets)\n",
    "\n",
    "# save id of 1 less than the oldest tweet\n",
    "\n",
    "oldest_tweet = all_the_tweets[-1].id - 1\n",
    "\n",
    "# grabbing tweets till none are left\n",
    "\n",
    "while len(new_tweets) > 0:\n",
    "# The max_id param will be used subsequently to prevent duplicates\n",
    "    new_tweets = api.user_timeline(screen_name='@realDonaldTrump',\n",
    "    count=200, max_id=oldest_tweet)\n",
    "\n",
    "    # save most recent tweets\n",
    "\n",
    "    all_the_tweets.extend(new_tweets)\n",
    "\n",
    "    # id is updated to oldest tweet - 1 to keep track\n",
    "\n",
    "    oldest_tweet = all_the_tweets[-1].id - 1\n",
    "    print ('...%s tweets have been downloaded so far' % len(all_the_tweets))"
   ]
  },
  {
   "cell_type": "code",
   "execution_count": 12,
   "metadata": {},
   "outputs": [],
   "source": [
    "outtweets = [[tweet.id_str, tweet.created_at,\n",
    "tweet.text.encode('utf-8')] for tweet in all_the_tweets]\n",
    "\n",
    "# writing to the csv file\n",
    "\n",
    "with open('realDonaldTrump' + '_tweets.csv', 'w', encoding='utf8') as f:\n",
    "    writer = csv.writer(f)\n",
    "    writer.writerow(['id', 'created_at', 'text'])\n",
    "    writer.writerows(outtweets)"
   ]
  },
  {
   "cell_type": "code",
   "execution_count": null,
   "metadata": {},
   "outputs": [],
   "source": []
  }
 ],
 "metadata": {
  "kernelspec": {
   "display_name": "Python 3",
   "language": "python",
   "name": "python3"
  },
  "language_info": {
   "codemirror_mode": {
    "name": "ipython",
    "version": 3
   },
   "file_extension": ".py",
   "mimetype": "text/x-python",
   "name": "python",
   "nbconvert_exporter": "python",
   "pygments_lexer": "ipython3",
   "version": "3.7.1"
  }
 },
 "nbformat": 4,
 "nbformat_minor": 2
}
