{
 "cells": [
  {
   "cell_type": "code",
   "execution_count": null,
   "metadata": {},
   "outputs": [],
   "source": [
    "import twitter_utils as td\n",
    "\n",
    "trump_twitter = td.TwitterApiData()\n",
    "import nltk\n",
    "from nltk.corpus import stopwords\n",
    "import datetime"
   ]
  },
  {
   "cell_type": "code",
   "execution_count": null,
   "metadata": {},
   "outputs": [],
   "source": [
    "stops = set(stopwords.words('english'))"
   ]
  },
  {
   "cell_type": "code",
   "execution_count": null,
   "metadata": {},
   "outputs": [],
   "source": [
    "def get_all_posts(first_year, last_year):\n",
    "    years = range(first_year, last_year + 1, 1)\n",
    "    posts = []\n",
    "\n",
    "    for year in years: \n",
    "        posts += trump_twitter.get_posts(year, [])\n",
    "    #posts = format_dates_for_posts(posts)\n",
    "    return posts "
   ]
  },
  {
   "cell_type": "code",
   "execution_count": null,
   "metadata": {},
   "outputs": [],
   "source": [
    "posts = get_all_posts(2010, 2019)"
   ]
  },
  {
   "cell_type": "code",
   "execution_count": null,
   "metadata": {},
   "outputs": [],
   "source": [
    "len(posts)"
   ]
  },
  {
   "cell_type": "code",
   "execution_count": null,
   "metadata": {},
   "outputs": [],
   "source": [
    "date_set = set([])\n",
    "date_to_num_posts = {}\n",
    "for p in posts: \n",
    "    date = p[0]\n",
    "    date_set.add(date)\n",
    "    if date not in date_to_num_posts:\n",
    "        date_to_num_posts[date] = 0\n",
    "    date_to_num_posts[date] += 1\n",
    "    \n"
   ]
  },
  {
   "cell_type": "code",
   "execution_count": null,
   "metadata": {},
   "outputs": [],
   "source": [
    "dates_sorted = sorted([(v, k) for k, v in date_to_num_posts.items()], reverse=True)"
   ]
  },
  {
   "cell_type": "code",
   "execution_count": null,
   "metadata": {},
   "outputs": [],
   "source": [
    "dates_sorted"
   ]
  },
  {
   "cell_type": "code",
   "execution_count": null,
   "metadata": {},
   "outputs": [],
   "source": [
    "len(date_set)"
   ]
  },
  {
   "cell_type": "code",
   "execution_count": null,
   "metadata": {},
   "outputs": [],
   "source": [
    "words_dict = {}\n",
    "for p in posts: \n",
    "    date = p[0]\n",
    "    text = p[1]\n",
    "    \n",
    "    for w in text.split():\n",
    "        w = w.lower()\n",
    "        if w in stops:\n",
    "            continue\n",
    "        if w not in words_dict: \n",
    "            words_dict[w] = 0\n",
    "        words_dict[w] += 1\n"
   ]
  },
  {
   "cell_type": "code",
   "execution_count": null,
   "metadata": {},
   "outputs": [],
   "source": [
    "rankings = sorted([(v, k) for k,v in words_dict.items()], reverse=True)"
   ]
  },
  {
   "cell_type": "code",
   "execution_count": null,
   "metadata": {},
   "outputs": [],
   "source": [
    "rankings"
   ]
  },
  {
   "cell_type": "code",
   "execution_count": null,
   "metadata": {},
   "outputs": [],
   "source": [
    "len(rankings)"
   ]
  },
  {
   "cell_type": "code",
   "execution_count": null,
   "metadata": {},
   "outputs": [],
   "source": [
    "posts = get_all_posts(2010, 2019)"
   ]
  },
  {
   "cell_type": "code",
   "execution_count": null,
   "metadata": {},
   "outputs": [],
   "source": [
    "date_to_posts = {}\n",
    "for p in posts:\n",
    "    date = p[0]\n",
    "    if date not in date_to_posts:\n",
    "        date_to_posts[date] = []\n",
    "    date_to_posts[date].append(p[1])"
   ]
  },
  {
   "cell_type": "code",
   "execution_count": null,
   "metadata": {},
   "outputs": [],
   "source": [
    "date_to_posts[datetime.datetime(2019, 1, 1, 0, 0)]"
   ]
  },
  {
   "cell_type": "code",
   "execution_count": null,
   "metadata": {},
   "outputs": [],
   "source": []
  }
 ],
 "metadata": {
  "kernelspec": {
   "display_name": "Python 3",
   "language": "python",
   "name": "python3"
  },
  "language_info": {
   "codemirror_mode": {
    "name": "ipython",
    "version": 3
   },
   "file_extension": ".py",
   "mimetype": "text/x-python",
   "name": "python",
   "nbconvert_exporter": "python",
   "pygments_lexer": "ipython3",
   "version": "3.7.1"
  }
 },
 "nbformat": 4,
 "nbformat_minor": 2
}
